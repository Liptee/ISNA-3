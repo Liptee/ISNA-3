{
  "cells": [
    {
      "cell_type": "markdown",
      "metadata": {
        "id": "Oy-KCjFvSPVC"
      },
      "source": [
        "# Запрос перечня друзей пользователя\n",
        "Для выполнения работы импортируем необходимый пакет"
      ]
    },
    {
      "cell_type": "code",
      "source": [
        "!pip install vk_api"
      ],
      "metadata": {
        "colab": {
          "base_uri": "https://localhost:8080/"
        },
        "id": "irnp7XhiyD72",
        "outputId": "ef532d65-82c7-4ed2-cc46-bd933fafd8f5"
      },
      "execution_count": null,
      "outputs": [
        {
          "output_type": "stream",
          "name": "stdout",
          "text": [
            "Looking in indexes: https://pypi.org/simple, https://us-python.pkg.dev/colab-wheels/public/simple/\n",
            "Collecting vk_api\n",
            "  Downloading vk_api-11.9.9-py3-none-any.whl (48 kB)\n",
            "\u001b[K     |████████████████████████████████| 48 kB 2.9 MB/s \n",
            "\u001b[?25hRequirement already satisfied: requests in /usr/local/lib/python3.7/dist-packages (from vk_api) (2.23.0)\n",
            "Requirement already satisfied: urllib3!=1.25.0,!=1.25.1,<1.26,>=1.21.1 in /usr/local/lib/python3.7/dist-packages (from requests->vk_api) (1.24.3)\n",
            "Requirement already satisfied: chardet<4,>=3.0.2 in /usr/local/lib/python3.7/dist-packages (from requests->vk_api) (3.0.4)\n",
            "Requirement already satisfied: idna<3,>=2.5 in /usr/local/lib/python3.7/dist-packages (from requests->vk_api) (2.10)\n",
            "Requirement already satisfied: certifi>=2017.4.17 in /usr/local/lib/python3.7/dist-packages (from requests->vk_api) (2022.9.24)\n",
            "Installing collected packages: vk-api\n",
            "Successfully installed vk-api-11.9.9\n"
          ]
        }
      ]
    },
    {
      "cell_type": "code",
      "execution_count": null,
      "metadata": {
        "id": "YkYcWLFFSPVF"
      },
      "outputs": [],
      "source": [
        "import vk_api"
      ]
    },
    {
      "cell_type": "markdown",
      "metadata": {
        "id": "ZLyv1AgpSPVF"
      },
      "source": [
        "Как и при выполнении первой лабараторной работы создаем подключение, а далее находим друзей `user1` с помощью метода `friends.get`"
      ]
    },
    {
      "cell_type": "code",
      "execution_count": null,
      "metadata": {
        "id": "nRbApX8KSPVG"
      },
      "outputs": [],
      "source": [
        "def auth_handler():\n",
        "    \"\"\"При двухфакторной аутентификации вызывается эта функция\"\"\"\n",
        "    key = input(\"Enter authentication code: \")\n",
        "    remember_device = True\n",
        "    return key, remember_device\n",
        "\n",
        "def stop_f(items):\n",
        "    print(items)\n",
        "\n",
        "def auth(login:str, psswd:str):\n",
        "    vk_session = vk_api.VkApi(login, psswd, auth_handler=auth_handler)\n",
        "    try:\n",
        "        vk_session.auth()\n",
        "    except vk_api.AuthError as error_msg:\n",
        "        print(error_msg)\n",
        "    \n",
        "    return vk_session"
      ]
    },
    {
      "cell_type": "code",
      "execution_count": null,
      "metadata": {
        "id": "_81fZV3fSPVG"
      },
      "outputs": [],
      "source": [
        "vk_session = auth(\" \", \" \")\n",
        "tools = vk_api.VkTools(vk_session)"
      ]
    },
    {
      "cell_type": "code",
      "execution_count": null,
      "metadata": {
        "id": "_0qtrav8SPVG"
      },
      "outputs": [],
      "source": [
        "import time\n",
        "def get_groups_users(friend_list, tools):\n",
        "    friends_out = {}\n",
        "    for friend in friend_list:\n",
        "        try:\n",
        "            friends_out[friend] = tools.get_all(\"friends.get\", 100, {\"user_id\": friend})\n",
        "        except Exception:\n",
        "            friends_out[friend] = []\n",
        "        time.sleep(1)\n",
        "    return friends_out"
      ]
    },
    {
      "cell_type": "code",
      "execution_count": null,
      "metadata": {
        "id": "7pu7nJTTSPVH"
      },
      "outputs": [],
      "source": [
        "user1 = 251901521\n",
        "friend_list = []\n",
        "friend_list.append(user1)\n",
        "friends_out = get_groups_users(friend_list, tools)\n",
        "print(friends_out)"
      ]
    },
    {
      "cell_type": "code",
      "execution_count": null,
      "metadata": {
        "id": "fZ_IWq3sSPVH"
      },
      "outputs": [],
      "source": [
        "friends_of_friends_list = get_groups_users(friends_out[user1]['items'], tools)\n",
        "print(friends_of_friends_list)"
      ]
    },
    {
      "cell_type": "code",
      "execution_count": null,
      "metadata": {
        "id": "95_sFLXZSPVI"
      },
      "outputs": [],
      "source": [
        "list(friends_of_friends_list)\n",
        "for id in list(friends_of_friends_list):\n",
        "    try:\n",
        "        print(len(friends_of_friends_list[id][\"items\"]))\n",
        "    except:\n",
        "        print(f\"error for id:{id}\")"
      ]
    },
    {
      "cell_type": "markdown",
      "metadata": {
        "id": "fpD6o0pvSPVI"
      },
      "source": [
        "## Создание простого графа\n",
        "Установим модуль **networkX** (необходима версия 1.9)"
      ]
    },
    {
      "cell_type": "code",
      "execution_count": null,
      "metadata": {
        "id": "uaztxQX0SPVJ"
      },
      "outputs": [],
      "source": [
        "import networkx as nx\n",
        "import numpy.random as rnd\n",
        "import matplotlib.pyplot as plt\n",
        "import itertools"
      ]
    },
    {
      "cell_type": "markdown",
      "source": [
        "Создадим экземпляр класса `nx.Graph`"
      ],
      "metadata": {
        "id": "HB09kUnDVKml"
      }
    },
    {
      "cell_type": "code",
      "source": [
        "graph = nx.Graph()\n",
        "graph"
      ],
      "metadata": {
        "id": "5asB8Kp8VOUP"
      },
      "execution_count": null,
      "outputs": []
    },
    {
      "cell_type": "markdown",
      "source": [
        "Чтобы добавить вершину, используем метод `add_note()`"
      ],
      "metadata": {
        "id": "DUktsJnhVTcE"
      }
    },
    {
      "cell_type": "code",
      "source": [
        "graph.add_node('A')\n",
        "graph.add_node('B')\n",
        "graph.add_node('C')\n",
        "graph.add_node('D')\n",
        "graph.add_node('E')\n",
        "graph.nodes()\n"
      ],
      "metadata": {
        "id": "qVs_2Wc3VX6l"
      },
      "execution_count": null,
      "outputs": []
    },
    {
      "cell_type": "markdown",
      "source": [
        "Т.к. метод `add_edge`, соединяет первую вершину со второй, но не наоборот, напишем свою функцию для добавления ребер."
      ],
      "metadata": {
        "id": "rIpAwzDtVgRi"
      }
    },
    {
      "cell_type": "code",
      "source": [
        "def add_edge(f_item, s_item, graph=None):\n",
        "  graph.add_edge(f_item, s_item)\n",
        "  graph.add_edge(s_item, f_item)"
      ],
      "metadata": {
        "id": "1_31Ag9tVoW6"
      },
      "execution_count": null,
      "outputs": []
    },
    {
      "cell_type": "markdown",
      "source": [
        "Теперь добавим несколько ребер, а также визуализируем граф:"
      ],
      "metadata": {
        "id": "fbqvM15mV0kp"
      }
    },
    {
      "cell_type": "code",
      "source": [
        "add_edge('A', 'B', graph=graph)\n",
        "add_edge('B', 'C', graph=graph)\n",
        "add_edge('D', 'B', graph=graph)\n",
        "add_edge('D', 'A', graph=graph)\n",
        "add_edge('E', 'A', graph=graph)\n",
        "add_edge('E', 'B', graph=graph)"
      ],
      "metadata": {
        "id": "cgJc_ubPV4gf"
      },
      "execution_count": null,
      "outputs": []
    },
    {
      "cell_type": "code",
      "execution_count": null,
      "metadata": {
        "id": "Hl-x-CpdSPVJ"
      },
      "outputs": [],
      "source": [
        "nx.draw_circular(graph,\n",
        "                 node_color='red',\n",
        "                 node_size=1000,\n",
        "                 with_labels=True)"
      ]
    },
    {
      "cell_type": "markdown",
      "source": [
        "Также мы можем создать вершины графа, воспользовавшись методом `add_nodes_from()`, передав туда итерируемый объект. Также работает и с методом `add_edges_from()`, где аргумент должен содержать кортежи с вершинами."
      ],
      "metadata": {
        "id": "VxsySVw-W5rh"
      }
    },
    {
      "cell_type": "code",
      "source": [
        "cities = [\n",
        "    \"A\",\n",
        "    \"B\",\n",
        "    \"C\",\n",
        "    \"D\"\n",
        "]\n",
        "graph = nx.Graph()\n",
        "graph.add_nodes_from(cities)"
      ],
      "metadata": {
        "id": "SKT_LxcZXJUD"
      },
      "execution_count": null,
      "outputs": []
    },
    {
      "cell_type": "markdown",
      "source": [
        "Теперь добавим ребра с весами (в нашем случае это расстояние между городами А, В, С и D):"
      ],
      "metadata": {
        "id": "b1hB2ILRXcO0"
      }
    },
    {
      "cell_type": "code",
      "source": [
        "distances = [\n",
        "    ('A', 'B', 0.15),\n",
        "    ('B', 'C', 0.16),\n",
        "    ('B', 'D', 0.25),\n",
        "    ('C', 'D', 0.14),\n",
        "    ('D', 'A', 0.18)\n",
        "]\n",
        "graph.add_weighted_edges_from(distances)"
      ],
      "metadata": {
        "id": "ldxLDajLXjBL"
      },
      "execution_count": null,
      "outputs": []
    },
    {
      "cell_type": "code",
      "source": [
        "pos = nx.spring_layout(graph)\n",
        "edge_labels = nx.get_edge_attributes(graph, \"weight\")\n",
        "nx.draw_networkx_edge_labels(graph, pos, edge_labels)"
      ],
      "metadata": {
        "id": "dvnKEeDNYeFu"
      },
      "execution_count": null,
      "outputs": []
    },
    {
      "cell_type": "markdown",
      "metadata": {
        "id": "5h1H9SX3SPVJ"
      },
      "source": [
        "Данная функция создает граф, вершинами которого являются узлы, содержащие `id` друзей, а также связывает между собой пользователя и его друга. Так как необходимо связать не только пользователя и друзей, а еще друзей между собой, то модифицируем код следующим образом."
      ]
    },
    {
      "cell_type": "code",
      "source": [
        "def make_graph(friends_out, friends_friends):\n",
        "  graph = nx.Graph()\n",
        "  graph.add_node(user1, size = friends_out[user1]['count'])\n",
        "\n",
        "  for i in friends_out[user1]['items']:\n",
        "    try:\n",
        "      graph.add_node(i, size = friends_friends[i]['count'])\n",
        "      intersection = set(friends_out[user1]['items']).intersection(\n",
        "        set(friends_friends[i]['items']))\n",
        "      graph.add_edge(user1, i, weight=len(intersection))\n",
        "    except Exception:\n",
        "      print(\"err\")\n",
        "\n",
        "  for i in range(len(friends_out[user1]['items'])):\n",
        "    id1 = friends_out[user1]['items'][i]\n",
        "    for k in range(i+1, len(friends_out[user1]['items'])):\n",
        "      id2 = friends_out[user1]['items'][k]\n",
        "      try:\n",
        "        intersection = set(friends_friends[id1]['items']).intersection(\n",
        "          set(friends_friends[id2]['items']))\n",
        "        if len(intersection) > 0:\n",
        "          graph.add_edge(id1, id2, weight=len(intersection))\n",
        "      except Exception:\n",
        "        print(\"err friend\")\n",
        "  return graph"
      ],
      "metadata": {
        "id": "Xb-AP4ybTC1N"
      },
      "execution_count": null,
      "outputs": []
    },
    {
      "cell_type": "markdown",
      "source": [
        "## Создание полносвязного графа\n",
        "Полносвязный граф - граф, где каждая вершина соединена с каждой другой."
      ],
      "metadata": {
        "id": "wuK_TIbxZ1GD"
      }
    },
    {
      "cell_type": "code",
      "source": [
        "def complete_graph(N: int) -> nx.Graph:\n",
        "  graph = nx.Graph()\n",
        "  N_range = range(N)\n",
        "  all_paris = itertools.permutations(N_range, 2)\n",
        "\n",
        "  graph.add_nodes_from(N_range)\n",
        "  graph.add_edges_from(all_paris)\n",
        "\n",
        "  return graph"
      ],
      "metadata": {
        "id": "eqRbrIFraugd"
      },
      "execution_count": null,
      "outputs": []
    },
    {
      "cell_type": "code",
      "source": [
        "compl_graph = complete_graph(15)\n",
        "\n",
        "nx.draw_circular(compl_graph, \n",
        "         node_color='green',\n",
        "         node_size=750,\n",
        "         with_labels=True)"
      ],
      "metadata": {
        "id": "32iSLxrQbvr7"
      },
      "execution_count": null,
      "outputs": []
    },
    {
      "cell_type": "markdown",
      "source": [
        "## определение полноты графа\n",
        "Теперь определим критерий, когда граф является полным.\n",
        "\n",
        "В полном графе n(n-1)/2 ребер, т.к. каждая вершина соединена с каждой, а при таком подсчете одно ребро считается дважды.\n",
        "\n",
        "Мы уже знаем о методах `node()` и `edges()`, возвращающие список вершин и ребер. Поэтому с помощью функции `len()` мы можем узнать кол-во вершин и ребер."
      ],
      "metadata": {
        "id": "TzSmUVTDcegO"
      }
    },
    {
      "cell_type": "code",
      "source": [
        "def is_complete(graph:nx.Graph) -> bool:\n",
        "  edges = len(graph.edges())\n",
        "  nodes = len(graph.nodes())\n",
        "\n",
        "  return edges == nodes * (nodes - 1) / 2"
      ],
      "metadata": {
        "id": "RZcpyAQvc1tx"
      },
      "execution_count": null,
      "outputs": []
    },
    {
      "cell_type": "code",
      "source": [
        "is_complete(compl_graph)"
      ],
      "metadata": {
        "colab": {
          "base_uri": "https://localhost:8080/"
        },
        "id": "06M3rb4JdPH6",
        "outputId": "ff84dccd-b3bd-4a9b-b895-2e76a13ac197"
      },
      "execution_count": null,
      "outputs": [
        {
          "output_type": "execute_result",
          "data": {
            "text/plain": [
              "True"
            ]
          },
          "metadata": {},
          "execution_count": 56
        }
      ]
    },
    {
      "cell_type": "code",
      "source": [
        "is_complete(graph)"
      ],
      "metadata": {
        "colab": {
          "base_uri": "https://localhost:8080/"
        },
        "id": "OmpF35_wdWCx",
        "outputId": "6912d3bf-51fc-478c-e724-8a533fd9beaa"
      },
      "execution_count": null,
      "outputs": [
        {
          "output_type": "execute_result",
          "data": {
            "text/plain": [
              "False"
            ]
          },
          "metadata": {},
          "execution_count": 57
        }
      ]
    },
    {
      "cell_type": "markdown",
      "source": [
        "## Создание графа друзей"
      ],
      "metadata": {
        "id": "dzlMko_3yYz7"
      }
    },
    {
      "cell_type": "code",
      "source": [
        "friends_out[user1][\"items\"]"
      ],
      "metadata": {
        "id": "Xb7V4pzky1Eq"
      },
      "execution_count": null,
      "outputs": []
    },
    {
      "cell_type": "code",
      "source": [
        "friend_graph = nx.Graph()\n",
        "friend_graph.add_nodes_from(friends_out[user1][\"items\"])\n",
        "graph.add_node(user1)"
      ],
      "metadata": {
        "id": "gkDTp1Wnyb_K"
      },
      "execution_count": null,
      "outputs": []
    },
    {
      "cell_type": "code",
      "source": [
        "for id in friends_out[user1][\"items\"]:\n",
        "  add_edge(user1, id, graph=friend_graph)"
      ],
      "metadata": {
        "id": "VU-iUE-0zaI-"
      },
      "execution_count": null,
      "outputs": []
    },
    {
      "cell_type": "code",
      "source": [
        "nx.draw_circular(friend_graph, \n",
        "         node_color='green',\n",
        "         node_size=200,\n",
        "         with_labels=True)"
      ],
      "metadata": {
        "id": "21ahND2ezJS8"
      },
      "execution_count": null,
      "outputs": []
    },
    {
      "cell_type": "code",
      "source": [
        "for user in list(friends_of_friends_list)[:1]:\n",
        "  try:\n",
        "    for id in friends_of_friends_list[user][\"items\"]:\n",
        "      graph.add_node(id)\n",
        "      add_edge(user, id, graph=friend_graph)\n",
        "  except:\n",
        "    pass\n"
      ],
      "metadata": {
        "id": "3xuOqozJz3u7"
      },
      "execution_count": null,
      "outputs": []
    },
    {
      "cell_type": "code",
      "source": [
        "nx.draw_circular(friend_graph, \n",
        "         node_color='green',\n",
        "         node_size=50)"
      ],
      "metadata": {
        "id": "joh7pMS0017_"
      },
      "execution_count": null,
      "outputs": []
    },
    {
      "cell_type": "code",
      "source": [
        "nx.draw(friend_graph,node_color='#A0CBE2',edge_color='#BB0000',width=1,edge_cmap=plt.cm.Blues)\n",
        "plt.savefig(\"friend_graph.svg\")"
      ],
      "metadata": {
        "id": "w-zRGf9a4-by"
      },
      "execution_count": null,
      "outputs": []
    },
    {
      "cell_type": "markdown",
      "source": [
        "# Задания\n",
        "## Постройте матрицу смежности заданных графов"
      ],
      "metadata": {
        "id": "lT-sog_dU7DL"
      }
    },
    {
      "cell_type": "code",
      "source": [
        "graph_1 = nx.Graph()\n",
        "edges_1 = [\n",
        "    (1, 2),\n",
        "    (1, 5),\n",
        "    (2, 5),\n",
        "    (2, 3),\n",
        "    (3, 4),\n",
        "    (5, 4),\n",
        "    (4, 6)\n",
        "]\n",
        "nodes_1 = [1,2,3,4,5,6]\n",
        "graph_1.add_nodes_from(nodes_1)\n",
        "graph_1.add_edges_from(edges_1)\n",
        "nx.draw(graph_1,\n",
        "        with_labels=True,\n",
        "        node_size = 500)"
      ],
      "metadata": {
        "colab": {
          "base_uri": "https://localhost:8080/",
          "height": 319
        },
        "id": "CK493gluVDsR",
        "outputId": "ccc75596-d1ac-45ed-ef00-b083006d0e14"
      },
      "execution_count": null,
      "outputs": [
        {
          "output_type": "display_data",
          "data": {
            "text/plain": [
              "<Figure size 432x288 with 1 Axes>"
            ],
            "image/png": "[encoded data removed]"
          },
          "metadata": {}
        }
      ]
    },
    {
      "cell_type": "code",
      "source": [
        "graph_2 = nx.DiGraph()\n",
        "edges_2 = [\n",
        "    (2, 2), (2, 1), (2, 4), (2, 5),\n",
        "    (1, 3),\n",
        "    (3, 5)\n",
        "]\n",
        "graph_2.add_edges_from(edges_2)\n",
        "nx.draw(graph_2,\n",
        "        with_labels=True,\n",
        "        node_size = 500)"
      ],
      "metadata": {
        "colab": {
          "base_uri": "https://localhost:8080/",
          "height": 319
        },
        "id": "3oM3Lo6NYV9y",
        "outputId": "04c005e7-7899-41b6-9aac-8e5d38af610e"
      },
      "execution_count": null,
      "outputs": [
        {
          "output_type": "display_data",
          "data": {
            "text/plain": [
              "<Figure size 432x288 with 1 Axes>"
            ],
            "image/png": "[encoded data removed]"
          },
          "metadata": {}
        }
      ]
    },
    {
      "cell_type": "code",
      "source": [
        "graph_3 = nx.DiGraph()\n",
        "edges_3 = [(1, 2, {'weight': 10}), (1, 3, {'weight': 30}), (1, 4, {'weight': 50}), (1, 5, {'weight': 10}), (3, 5, {'weight': 10}), (4, 3, {'weight': 20}), (4, 2, {'weight': 40}), (5, 1, {'weight': 10}), (5, 3, {'weight': 10}), (5, 4, {'weight': 30})]\n",
        "graph_3.add_edges_from(edges_3)\n",
        "pos = nx.spring_layout(graph_3)\n",
        "edge_labels = nx.get_edge_attributes(graph_3, \"weight\")\n",
        "nx.draw_networkx_nodes(graph_3, pos, node_size=300)\n",
        "nx.draw_networkx_edges(graph_3, pos, width=2)\n",
        "nx.draw_networkx_labels(graph_3, pos)\n",
        "nx.draw_networkx_edge_labels(graph_3, pos, edge_labels, font_size=9)\n"
      ],
      "metadata": {
        "colab": {
          "base_uri": "https://localhost:8080/",
          "height": 422
        },
        "id": "4ySUD4FZZarp",
        "outputId": "3f67f8e7-d90f-449b-ba42-aafae3a8bd21"
      },
      "execution_count": null,
      "outputs": [
        {
          "output_type": "execute_result",
          "data": {
            "text/plain": [
              "{(1, 2): Text(0.04366390253753308, -0.4297945233882515, '10'),\n",
              " (1, 3): Text(-0.016844272960554317, 0.4761399365054217, '30'),\n",
              " (1, 4): Text(0.01958803253317191, -0.046663978067103234, '50'),\n",
              " (1, 5): Text(-0.012803152004615959, 0.21093499478517846, '10'),\n",
              " (3, 5): Text(-0.052050431702193416, 0.5466639780671033, '10'),\n",
              " (4, 3): Text(-0.019659247164405546, 0.2890650052148216, '20'),\n",
              " (4, 2): Text(0.04084892833368185, -0.6168694546788516, '40'),\n",
              " (5, 1): Text(-0.012803152004615959, 0.21093499478517846, '10'),\n",
              " (5, 3): Text(-0.052050431702193416, 0.5466639780671033, '10'),\n",
              " (5, 4): Text(-0.015618126208467187, 0.023860063494578393, '30')}"
            ]
          },
          "metadata": {},
          "execution_count": 163
        },
        {
          "output_type": "display_data",
          "data": {
            "text/plain": [
              "<Figure size 432x288 with 1 Axes>"
            ],
            "image/png": "[encoded data removed]"
          },
          "metadata": {}
        }
      ]
    }
  ],
  "metadata": {
    "kernelspec": {
      "display_name": "Python 3.10.8 ('Lab_2-zARI9a1x')",
      "language": "python",
      "name": "python3"
    },
    "language_info": {
      "codemirror_mode": {
        "name": "ipython",
        "version": 3
      },
      "file_extension": ".py",
      "mimetype": "text/x-python",
      "name": "python",
      "nbconvert_exporter": "python",
      "pygments_lexer": "ipython3",
      "version": "3.10.8"
    },
    "orig_nbformat": 4,
    "vscode": {
      "interpreter": {
        "hash": "907a74e250388877b60673f81d9745fd136c55194997f2bc3ee1d81b60a1c990"
      }
    },
    "colab": {
      "provenance": [],
      "collapsed_sections": [
        "wuK_TIbxZ1GD",
        "TzSmUVTDcegO",
        "dzlMko_3yYz7"
      ]
    }
  },
  "nbformat": 4,
  "nbformat_minor": 0
}