{
 "cells": [
  {
   "cell_type": "markdown",
   "metadata": {},
   "source": [
    "# Запрос перечня друзей пользователя\n",
    "Для выполнения работы импортируем необходимый пакет"
   ]
  },
  {
   "cell_type": "code",
   "execution_count": null,
   "metadata": {},
   "outputs": [],
   "source": [
    "import vk_api"
   ]
  },
  {
   "cell_type": "markdown",
   "metadata": {},
   "source": [
    "Как и при выполнении первой лабараторной работы создаем подключение, а далее находим друзей `user1` с помощью метода `friends.get`"
   ]
  },
  {
   "cell_type": "code",
   "execution_count": null,
   "metadata": {},
   "outputs": [],
   "source": [
    "def auth_handler():\n",
    "    \"\"\"При двухфакторной аутентификации вызывается эта функция\"\"\"\n",
    "    key = input(\"Enter authentication code: \")\n",
    "    remember_device = True\n",
    "    return key, remember_device\n",
    "\n",
    "def stop_f(items):\n",
    "    print(items)\n",
    "\n",
    "def auth(login:str, psswd:str):\n",
    "    vk_session = vk_api.VkApi(login, psswd, auth_handler=auth_handler)\n",
    "    try:\n",
    "        vk_session.auth()\n",
    "    except vk_api.AuthError as error_msg:\n",
    "        print(error_msg)\n",
    "    \n",
    "    return vk_session"
   ]
  },
  {
   "cell_type": "code",
   "execution_count": null,
   "metadata": {},
   "outputs": [],
   "source": [
    "vk_session = auth(\"\", \"\")\n",
    "tools = vk_api.VkTools(vk_session)"
   ]
  },
  {
   "cell_type": "code",
   "execution_count": null,
   "metadata": {},
   "outputs": [],
   "source": [
    "import time\n",
    "def get_groups_users(friend_list, tools):\n",
    "    friends_out = {}\n",
    "    for friend in friend_list:\n",
    "        try:\n",
    "            friends_out[friend] = tools.get_all(\"friends.get\", 100, {\"user_id\": friend})\n",
    "        except Exception:\n",
    "            friends_out[friend] = []\n",
    "        time.sleep(1)\n",
    "    return friends_out"
   ]
  },
  {
   "cell_type": "code",
   "execution_count": null,
   "metadata": {},
   "outputs": [],
   "source": [
    "user1 = 251901521\n",
    "friend_list = []\n",
    "friend_list.append(user1)\n",
    "friends_out = get_groups_users(friend_list, tools)\n",
    "print(friends_out)"
   ]
  },
  {
   "cell_type": "code",
   "execution_count": null,
   "metadata": {},
   "outputs": [],
   "source": [
    "print((friends_out[251901521])['items'])"
   ]
  },
  {
   "cell_type": "code",
   "execution_count": null,
   "metadata": {},
   "outputs": [],
   "source": [
    "friends_of_friends_list = get_groups_users(friends_out[user1]['items'], tools)\n",
    "print(friends_of_friends_list)"
   ]
  },
  {
   "cell_type": "code",
   "execution_count": null,
   "metadata": {},
   "outputs": [],
   "source": [
    "list(friends_of_friends_list)\n",
    "for id in list(friends_of_friends_list):\n",
    "    try:\n",
    "        print(len(friends_of_friends_list[id][\"items\"]))\n",
    "    except:\n",
    "        print(f\"error for id:{id}\")"
   ]
  },
  {
   "cell_type": "markdown",
   "metadata": {},
   "source": [
    "# Формировка графа друзей пользователя\n",
    "Установим модуль **networkX** (необходима версия 1.9)"
   ]
  },
  {
   "cell_type": "code",
   "execution_count": null,
   "metadata": {},
   "outputs": [],
   "source": [
    "!pip uninstall networkx"
   ]
  },
  {
   "cell_type": "code",
   "execution_count": null,
   "metadata": {},
   "outputs": [],
   "source": [
    "import networkx"
   ]
  },
  {
   "cell_type": "code",
   "execution_count": null,
   "metadata": {},
   "outputs": [],
   "source": [
    "import networkx as nx\n",
    "\n",
    "def make_graph(friends_out, friends_friends):\n",
    "    graph = nx.Graph()\n",
    "    graph.add_node(user1, size = friends_out[user1]['count'])\n",
    "    for i in friends_out[user1]['items']:\n",
    "        try:\n",
    "            graph.add_node(i, size=friends_friends[i]['count'])\n",
    "            intersection = set(friends_out[user1]['items']).intersection(\n",
    "                set(friends_friends[i]['items']))\n",
    "            graph.add_edge(user1, i, weight=len(intersection))\n",
    "        except Exception:\n",
    "            print(\"err\")\n",
    "    return graph"
   ]
  },
  {
   "cell_type": "markdown",
   "metadata": {},
   "source": []
  }
 ],
 "metadata": {
  "kernelspec": {
   "display_name": "Python 3.10.8 ('Lab_2-zARI9a1x')",
   "language": "python",
   "name": "python3"
  },
  "language_info": {
   "codemirror_mode": {
    "name": "ipython",
    "version": 3
   },
   "file_extension": ".py",
   "mimetype": "text/x-python",
   "name": "python",
   "nbconvert_exporter": "python",
   "pygments_lexer": "ipython3",
   "version": "3.10.8"
  },
  "orig_nbformat": 4,
  "vscode": {
   "interpreter": {
    "hash": "907a74e250388877b60673f81d9745fd136c55194997f2bc3ee1d81b60a1c990"
   }
  }
 },
 "nbformat": 4,
 "nbformat_minor": 2
}
